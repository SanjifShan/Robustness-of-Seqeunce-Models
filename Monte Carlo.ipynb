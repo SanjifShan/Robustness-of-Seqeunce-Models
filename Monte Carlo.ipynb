{
 "cells": [
  {
   "cell_type": "code",
   "execution_count": 1,
   "metadata": {},
   "outputs": [],
   "source": [
    "import numpy as np\n",
    "import random\n",
    "import math"
   ]
  },
  {
   "cell_type": "code",
   "execution_count": 2,
   "metadata": {},
   "outputs": [
    {
     "data": {
      "text/plain": [
       "'\\nrandom_Centres = {k: Centres(random.randrange(-1 * width, width), random.randrange(-1 * height, height), 10) for k in range(100)}\\n\\nfor centre in random_Centres.values():\\n    print(centre.get_position())\\n    print(centre.class_of_point())\\n\\n'"
      ]
     },
     "execution_count": 2,
     "metadata": {},
     "output_type": "execute_result"
    }
   ],
   "source": [
    "def positive_or_negative():\n",
    "    if random.random() < 0.5:\n",
    "        return 1\n",
    "    else:\n",
    "        return -1\n",
    "    \n",
    "no_of_points = 100\n",
    "width, height = 100, 100\n",
    "\n",
    "# equation: y = x^2\n",
    "\n",
    "class Centres:\n",
    "    def __init__(self, x, y, radius):\n",
    "        self.x = x\n",
    "        self.y = y\n",
    "        self.radius = radius\n",
    "        \n",
    "    def random_point_on_sphere(self):\n",
    "        random_x = self.x + random.uniform(0, self.radius) * positive_or_negative()\n",
    "        random_y = self.y + math.sqrt(abs(math.pow(self.radius,2) - math.pow(random_x,2))) * positive_or_negative()\n",
    "        return Centres(random_x, random_y, 0)\n",
    "        \n",
    "    def uniformSphere(self, n = no_of_points):\n",
    "        random_points = {k: self.random_point_on_sphere() for k in range(n)}\n",
    "        return random_points\n",
    "            \n",
    "    def get_position(self):\n",
    "        return (self.x, self.y)\n",
    "    \n",
    "    def get_x_pos(self):\n",
    "        return self.x\n",
    "    \n",
    "    def get_y_pos(self):\n",
    "        return self.y\n",
    "    \n",
    "    def class_of_point(self):\n",
    "        if self.y < self.x :\n",
    "            return -1\n",
    "        else: \n",
    "            return 1\n",
    "         \n",
    "    def prop_missclassified(self):\n",
    "        count = 0\n",
    "        centreClass = self.class_of_point()\n",
    "        \n",
    "        for randomPoint in self.uniformSphere().values():\n",
    "            #print(randomPoint.get_x_pos())\n",
    "            #print(randomPoint.get_y_pos())  \n",
    "            #print(randomPoint.class_of_point())\n",
    "            if centreClass * randomPoint.class_of_point() < 0: count += 1\n",
    "                \n",
    "        return count/no_of_points\n",
    " \n",
    "'''\n",
    "random_Centres = {k: Centres(random.randrange(-1 * width, width), random.randrange(-1 * height, height), 10) for k in range(100)}\n",
    "\n",
    "for centre in random_Centres.values():\n",
    "    print(centre.get_position())\n",
    "    print(centre.class_of_point())\n",
    "\n",
    "'''"
   ]
  },
  {
   "cell_type": "code",
   "execution_count": 3,
   "metadata": {},
   "outputs": [
    {
     "data": {
      "text/plain": [
       "[<matplotlib.lines.Line2D at 0x23d8ed8a390>]"
      ]
     },
     "execution_count": 3,
     "metadata": {},
     "output_type": "execute_result"
    },
    {
     "data": {
      "image/png": "[encoded data removed]",
      "text/plain": [
       "<Figure size 432x288 with 1 Axes>"
      ]
     },
     "metadata": {
      "needs_background": "light"
     },
     "output_type": "display_data"
    }
   ],
   "source": [
    "no_of_points = 100\n",
    "\n",
    "def prop_as_a_func_of_radius(radius):\n",
    "    \n",
    "    random_Centres = {k: Centres(random.randrange(-1 * width, width), random.randrange(-1 * height, height), radius) for k in range(no_of_points)}\n",
    "    count = 0\n",
    "    for centre in random_Centres.values():\n",
    "        count += centre.prop_missclassified()\n",
    "    return count/no_of_points\n",
    "\n",
    "import matplotlib.pyplot as plt\n",
    "%matplotlib inline\n",
    "\n",
    "x_values = [10,20,30,40,50,100,200,300,400,500,1000]\n",
    "y_values = [prop_as_a_func_of_radius(10),prop_as_a_func_of_radius(20),prop_as_a_func_of_radius(30),prop_as_a_func_of_radius(40),prop_as_a_func_of_radius(50),prop_as_a_func_of_radius(100),prop_as_a_func_of_radius(200),prop_as_a_func_of_radius(300),prop_as_a_func_of_radius(400),prop_as_a_func_of_radius(500),prop_as_a_func_of_radius(1000)]\n",
    "\n",
    "plt.plot(x_values, y_values)\n"
   ]
  },
  {
   "cell_type": "code",
   "execution_count": 4,
   "metadata": {},
   "outputs": [
    {
     "data": {
      "text/plain": [
       "0.44"
      ]
     },
     "execution_count": 4,
     "metadata": {},
     "output_type": "execute_result"
    }
   ],
   "source": [
    "Point = Centres(0,0,10)\n",
    "Point.uniformSphere(100)\n",
    "Point.prop_missclassified()"
   ]
  },
  {
   "cell_type": "code",
   "execution_count": null,
   "metadata": {},
   "outputs": [],
   "source": []
  }
 ],
 "metadata": {
  "kernelspec": {
   "display_name": "Python 3",
   "language": "python",
   "name": "python3"
  },
  "language_info": {
   "codemirror_mode": {
    "name": "ipython",
    "version": 3
   },
   "file_extension": ".py",
   "mimetype": "text/x-python",
   "name": "python",
   "nbconvert_exporter": "python",
   "pygments_lexer": "ipython3",
   "version": "3.7.1"
  }
 },
 "nbformat": 4,
 "nbformat_minor": 4
}
